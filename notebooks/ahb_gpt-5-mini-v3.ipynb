{
 "cells": [
  {
   "cell_type": "markdown",
   "id": "2ecfca09b4cf13c7",
   "metadata": {},
   "source": [
    "# Adverse Human Behaviour (AHB)\n",
    "\n",
    "Does OpenAI already know how to classify if a tweet is talking about 'Drugs Abuse / Drugs Consumption' (one of the AHB problems)?"
   ]
  },
  {
   "cell_type": "markdown",
   "id": "6ea29f2b0104d641",
   "metadata": {},
   "source": [
    "## Install and import dependencies"
   ]
  },
  {
   "cell_type": "code",
   "id": "3cfeb65741eebe28",
   "metadata": {
    "ExecuteTime": {
     "end_time": "2025-08-12T18:03:50.443220Z",
     "start_time": "2025-08-12T18:03:49.294271Z"
    }
   },
   "source": [
    "import os\n",
    "import re\n",
    "\n",
    "from openai import OpenAI\n",
    "\n",
    "import pandas as pd\n",
    "\n",
    "from sklearn.metrics import confusion_matrix, classification_report\n",
    "\n",
    "import matplotlib.pyplot as plt\n",
    "import seaborn as sns\n",
    "\n",
    "from tqdm.notebook import tqdm\n",
    "\n",
    "import watermark\n",
    "\n",
    "%load_ext watermark\n",
    "%matplotlib inline\n",
    "\n",
    "plt.style.use('../style.mplstyle')\n",
    "colors = plt.rcParams['axes.prop_cycle'].by_key()['color']"
   ],
   "outputs": [],
   "execution_count": 1
  },
  {
   "cell_type": "markdown",
   "id": "a83c25251e227fc9",
   "metadata": {},
   "source": [
    "Print out the versions of the libraries that I'm using for future reference"
   ]
  },
  {
   "cell_type": "code",
   "id": "acb185ed91075679",
   "metadata": {
    "ExecuteTime": {
     "end_time": "2025-08-12T18:03:50.699041Z",
     "start_time": "2025-08-12T18:03:50.661428Z"
    }
   },
   "source": [
    "%watermark -n -v -m -iv"
   ],
   "outputs": [
    {
     "name": "stdout",
     "output_type": "stream",
     "text": [
      "Python implementation: CPython\n",
      "Python version       : 3.13.0\n",
      "IPython version      : 9.4.0\n",
      "\n",
      "Compiler    : Clang 16.0.0 (clang-1600.0.26.4)\n",
      "OS          : Darwin\n",
      "Release     : 23.5.0\n",
      "Machine     : x86_64\n",
      "Processor   : i386\n",
      "CPU cores   : 8\n",
      "Architecture: 64bit\n",
      "\n",
      "sklearn   : 1.7.1\n",
      "pandas    : 2.3.1\n",
      "tqdm      : 4.67.1\n",
      "re        : 2.2.1\n",
      "openai    : 1.99.6\n",
      "matplotlib: 3.10.5\n",
      "watermark : 2.5.0\n",
      "sys       : 3.13.0 (main, Oct  7 2024, 05:02:14) [Clang 16.0.0 (clang-1600.0.26.4)]\n",
      "seaborn   : 0.13.2\n",
      "\n"
     ]
    }
   ],
   "execution_count": 2
  },
  {
   "cell_type": "markdown",
   "id": "abbfbf78769bf77c",
   "metadata": {},
   "source": [
    "## Initialize OpenAI client"
   ]
  },
  {
   "cell_type": "code",
   "id": "d7b611d7d1295711",
   "metadata": {
    "ExecuteTime": {
     "end_time": "2025-08-12T18:03:50.803731Z",
     "start_time": "2025-08-12T18:03:50.720710Z"
    }
   },
   "source": "client = OpenAI(api_key=os.environ.get(\"OPENAI_API_KEY\"))",
   "outputs": [],
   "execution_count": 3
  },
  {
   "cell_type": "markdown",
   "id": "d9d676d8dbc36bb7",
   "metadata": {},
   "source": [
    "## Tweets Classifier\n",
    "\n",
    "First, we define the function to classify the tweet."
   ]
  },
  {
   "cell_type": "code",
   "id": "initial_id",
   "metadata": {
    "collapsed": true,
    "jupyter": {
     "outputs_hidden": true
    },
    "ExecuteTime": {
     "end_time": "2025-08-12T18:03:50.821827Z",
     "start_time": "2025-08-12T18:03:50.816024Z"
    }
   },
   "source": [
    "def classify_tweet(tweet):\n",
    "    prompt = f\"\"\"\n",
    "    Clasifica el siguiente tweet como POSITIVE o NEGATIVE según estos criterios:\n",
    "\n",
    "    POSITIVE: cumple con uno o más de los siguientes:\n",
    "    - El autor describe que está consumiendo o ha consumido drogas ilícitas, y lo presenta de forma neutral o positiva.\n",
    "    - El autor expresa deseo, necesidad o anhelo de consumir drogas ilícitas.\n",
    "    - El autor manifiesta nostalgia por experiencias pasadas de consumo de drogas ilícitas.\n",
    "\n",
    "    NEGATIVE: no cumple con ningún criterio POSITIVE, por ejemplo:\n",
    "    - El autor menciona consumo propio pero lo critica o desaprueba.\n",
    "    - Describe consumo de otra persona (real o ficticia).\n",
    "    - Usa humor, ironía o sarcasmo sin implicar deseo o nostalgia real de consumo propio.\n",
    "    - Menciona drogas ilícitas en contextos informativos, ficticios o metafóricos.\n",
    "    - Habla de transporte público (colectivo, subte, tren) sin relación clara con drogas ilícitas.\n",
    "\n",
    "    Consideraciones:\n",
    "    - El foco está en consumo problemático del autor, no solo en cualquier mención de consumo.\n",
    "    - Ante ambigüedad, clasificar como NEGATIVE.\n",
    "\n",
    "    Responde únicamente con POSITIVE o NEGATIVE.\n",
    "\n",
    "    Tweet: {tweet}\n",
    "    \"\"\"\n",
    "\n",
    "    response = client.chat.completions.create(\n",
    "        model=\"gpt-5-mini\",\n",
    "        messages=[\n",
    "            {\"role\": \"system\", \"content\": \"Sos un clasificador binario de tweets que hablan sobre drogas ilícitas\"},\n",
    "            {\"role\": \"user\", \"content\": prompt}\n",
    "        ],\n",
    "        temperature=1\n",
    "    )\n",
    "\n",
    "    return response.choices[0].message.content.strip().upper()"
   ],
   "outputs": [],
   "execution_count": 4
  },
  {
   "cell_type": "markdown",
   "id": "54c7f686246acb27",
   "metadata": {},
   "source": [
    "After that, we define the function to create a tweet with all the needed context"
   ]
  },
  {
   "cell_type": "code",
   "id": "c8454ea823e2143",
   "metadata": {
    "ExecuteTime": {
     "end_time": "2025-08-12T18:03:50.857481Z",
     "start_time": "2025-08-12T18:03:50.850773Z"
    }
   },
   "source": [
    "def build_tweet_context(row):\n",
    "    context_parts = []\n",
    "\n",
    "    if pd.notna(row.get(\"tweet_author\")):\n",
    "        context_parts.append(f\"Autor del tweet: {row['tweet_author']}\")\n",
    "    if pd.notna(row.get(\"tweet_avatar\")):\n",
    "        context_parts.append(f\"Avatar del tweet: {row['tweet_avatar']}\")\n",
    "\n",
    "    if pd.notna(row.get(\"tweet_text\")):\n",
    "        context_parts.append(f\"Texto del tweet: {row['tweet_text']}\")\n",
    "\n",
    "    if pd.notna(row.get(\"tweet_images\")) and str(row[\"tweet_images\"]).strip():\n",
    "        context_parts.append(f\"Imágenes del tweet: {row['tweet_images']}\")\n",
    "\n",
    "    if pd.notna(row.get(\"is_tweet_a_reply\")) and row[\"is_tweet_a_reply\"] is True:\n",
    "        context_parts.append(\"Este tweet es una respuesta a otro tweet.\")\n",
    "\n",
    "    if pd.notna(row.get(\"quote_author\")):\n",
    "        context_parts.append(f\"Autor del tweet citado: {row['quote_author']}\")\n",
    "    if pd.notna(row.get(\"quote_avatar\")):\n",
    "        context_parts.append(f\"Avatar del tweet citado: {row['quote_avatar']}\")\n",
    "    if pd.notna(row.get(\"quote_text\")):\n",
    "        context_parts.append(f\"Texto del tweet citado: {row['quote_text']}\")\n",
    "    if pd.notna(row.get(\"quote_images\")) and str(row[\"quote_images\"]).strip():\n",
    "        context_parts.append(f\"Imágenes del tweet citado: {row['quote_images']}\")\n",
    "    if pd.notna(row.get(\"is_quote_a_reply\")) and row[\"is_quote_a_reply\"] is True:\n",
    "        context_parts.append(\"El tweet citado es una respuesta a otro tweet.\")\n",
    "\n",
    "    return \"\\n\".join(context_parts)"
   ],
   "outputs": [],
   "execution_count": 5
  },
  {
   "cell_type": "markdown",
   "id": "12909b52daf675f9",
   "metadata": {},
   "source": [
    "Then we load the `corpus.csv` which contains manually categorized tweets, and prepare it for the classification process"
   ]
  },
  {
   "cell_type": "code",
   "id": "523e99fa5ab355bc",
   "metadata": {
    "ExecuteTime": {
     "end_time": "2025-08-12T18:03:50.889678Z",
     "start_time": "2025-08-12T18:03:50.871746Z"
    }
   },
   "source": [
    "df = pd.read_csv(\"../data/raw/corpus.csv\")\n",
    "\n",
    "def to_snake_case(name):\n",
    "    name = re.sub('(.)([A-Z][a-z]+)', r'\\1_\\2', name)\n",
    "    name = re.sub('([a-z0-9])([A-Z])', r'\\1_\\2', name)\n",
    "    return name.replace(\" \", \"_\").lower()\n",
    "\n",
    "df.columns = [to_snake_case(col) for col in df.columns]\n",
    "\n",
    "print(df.columns)"
   ],
   "outputs": [
    {
     "name": "stdout",
     "output_type": "stream",
     "text": [
      "Index(['id', 'tweet_author', 'tweet_avatar', 'tweet_text', 'tweet_images',\n",
      "       'is_tweet_a_reply', 'quote_author', 'quote_avatar', 'quote_text',\n",
      "       'quote_images', 'is_quote_a_reply', 'categorization'],\n",
      "      dtype='object')\n"
     ]
    }
   ],
   "execution_count": 6
  },
  {
   "cell_type": "markdown",
   "id": "4d0e26eabf3478fb",
   "metadata": {},
   "source": [
    "Fill the `tweet_context` column"
   ]
  },
  {
   "cell_type": "code",
   "id": "cf4742f4aa091f6b",
   "metadata": {
    "ExecuteTime": {
     "end_time": "2025-08-12T18:03:50.955788Z",
     "start_time": "2025-08-12T18:03:50.912823Z"
    }
   },
   "source": [
    "df[\"tweet_context\"] = df.apply(build_tweet_context, axis=1)\n",
    "print(df[\"tweet_context\"].iloc[161])"
   ],
   "outputs": [
    {
     "name": "stdout",
     "output_type": "stream",
     "text": [
      "Autor del tweet: @LucasMarianook\n",
      "Avatar del tweet: https://pbs.twimg.com/profile_images/1611526342247415808/4Zq9ZRxm_normal.jpg\n",
      "Texto del tweet: Mayada: Que ganas de tomarme una linea, pero no tengo.\n",
      "\n",
      "Martinez Cuarta: Yo te doy de la mía.\n",
      "Autor del tweet citado: @RiverPlateFoto\n",
      "Avatar del tweet citado: https://pbs.twimg.com/profile_images/877849863895080960/d9gZBQtR_mini.jpg\n",
      "Texto del tweet citado: Emocionante abrazo entre Lucas Martinez Quarta y Camilo Mayada!\n",
      "Imágenes del tweet citado: https://pbs.twimg.com/media/DXK_LJOWAAAova8?format=jpg&name=small\n"
     ]
    }
   ],
   "execution_count": 7
  },
  {
   "cell_type": "markdown",
   "id": "489071adabe2cb5d",
   "metadata": {},
   "source": [
    "Start the classification process and save the results in a 'prediction' column"
   ]
  },
  {
   "cell_type": "code",
   "id": "aff09ff2792cc168",
   "metadata": {
    "ExecuteTime": {
     "end_time": "2025-08-12T19:53:07.873831Z",
     "start_time": "2025-08-12T18:53:11.085671Z"
    }
   },
   "source": [
    "tqdm.pandas(desc=\"Classifying tweets\")\n",
    "df[\"prediction\"] = df[\"tweet_context\"].progress_apply(classify_tweet)"
   ],
   "outputs": [
    {
     "data": {
      "text/plain": [
       "Classifying tweets:   0%|          | 0/1009 [00:00<?, ?it/s]"
      ],
      "application/vnd.jupyter.widget-view+json": {
       "version_major": 2,
       "version_minor": 0,
       "model_id": "8e04f0520bdf4f67a19081832210eb38"
      }
     },
     "metadata": {},
     "output_type": "display_data"
    }
   ],
   "execution_count": 9
  },
  {
   "cell_type": "code",
   "id": "559c23baf1038e80",
   "metadata": {
    "ExecuteTime": {
     "end_time": "2025-08-13T01:59:25.490962Z",
     "start_time": "2025-08-13T01:59:25.302985Z"
    }
   },
   "source": [
    "print(df[\"prediction\"])"
   ],
   "outputs": [
    {
     "name": "stdout",
     "output_type": "stream",
     "text": [
      "0       POSITIVE\n",
      "1       POSITIVE\n",
      "2       POSITIVE\n",
      "3       NEGATIVE\n",
      "4       NEGATIVE\n",
      "          ...   \n",
      "1004    NEGATIVE\n",
      "1005    NEGATIVE\n",
      "1006    NEGATIVE\n",
      "1007    POSITIVE\n",
      "1008    NEGATIVE\n",
      "Name: prediction, Length: 1009, dtype: object\n"
     ]
    }
   ],
   "execution_count": 10
  },
  {
   "cell_type": "markdown",
   "id": "383e48416a0c561",
   "metadata": {},
   "source": [
    "### Confusion Matrix"
   ]
  },
  {
   "cell_type": "code",
   "id": "8298a2bbf47db511",
   "metadata": {
    "ExecuteTime": {
     "end_time": "2025-08-13T01:59:28.472801Z",
     "start_time": "2025-08-13T01:59:27.600829Z"
    }
   },
   "source": [
    "y_true = df[\"categorization\"]\n",
    "y_pred = df[\"prediction\"]\n",
    "\n",
    "cm = confusion_matrix(y_true, y_pred, labels=[\"POSITIVE\", \"NEGATIVE\"])\n",
    "\n",
    "labels = [\"POSITIVE\", \"NEGATIVE\"]\n",
    "\n",
    "plt.figure(figsize=(2,1))\n",
    "\n",
    "ax = sns.heatmap(\n",
    "    cm,\n",
    "    annot=True,\n",
    "    fmt='d',\n",
    "    cmap='Blues',\n",
    "    xticklabels=labels,\n",
    "    yticklabels=labels,\n",
    "    cbar=True,\n",
    "    annot_kws={\"size\": 9}\n",
    ")\n",
    "\n",
    "cbar = ax.collections[0].colorbar\n",
    "cbar.ax.tick_params(labelsize=6)\n",
    "\n",
    "plt.xlabel('Prediction', fontsize=6)\n",
    "plt.ylabel('True', fontsize=6)\n",
    "plt.xticks(fontsize=5)\n",
    "plt.yticks(fontsize=5)\n",
    "plt.title('Confusion Matrix', fontsize=9)\n",
    "plt.show()\n",
    "\n",
    "print(cm)"
   ],
   "outputs": [
    {
     "data": {
      "text/plain": [
       "<Figure size 600x300 with 2 Axes>"
      ],
      "image/png": "[encoded data removed]"
     },
     "metadata": {},
     "output_type": "display_data"
    },
    {
     "name": "stdout",
     "output_type": "stream",
     "text": [
      "[[477  44]\n",
      " [ 91 397]]\n"
     ]
    }
   ],
   "execution_count": 11
  },
  {
   "cell_type": "markdown",
   "id": "379e86685155d6af",
   "metadata": {},
   "source": [
    "### Classification report"
   ]
  },
  {
   "cell_type": "code",
   "id": "bf65ef5c612ee4f7",
   "metadata": {
    "ExecuteTime": {
     "end_time": "2025-08-13T01:59:35.804826Z",
     "start_time": "2025-08-13T01:59:35.490376Z"
    }
   },
   "source": [
    "report_dict = classification_report(y_true, y_pred, labels=labels, output_dict=True)\n",
    "report_df = pd.DataFrame(report_dict).transpose()\n",
    "\n",
    "print(\"Classification report:\\n\")\n",
    "report_df.style.format({\n",
    "    'precision': '{:.2f}',\n",
    "    'recall': '{:.2f}',\n",
    "    'f1-score': '{:.2f}',\n",
    "    'support': '{:.0f}'\n",
    "})"
   ],
   "outputs": [
    {
     "name": "stdout",
     "output_type": "stream",
     "text": [
      "Classification report:\n",
      "\n"
     ]
    },
    {
     "data": {
      "text/plain": [
       "<pandas.io.formats.style.Styler at 0x113d2cec0>"
      ],
      "text/html": [
       "<style type=\"text/css\">\n",
       "</style>\n",
       "<table id=\"T_fcb8d\">\n",
       "  <thead>\n",
       "    <tr>\n",
       "      <th class=\"blank level0\" >&nbsp;</th>\n",
       "      <th id=\"T_fcb8d_level0_col0\" class=\"col_heading level0 col0\" >precision</th>\n",
       "      <th id=\"T_fcb8d_level0_col1\" class=\"col_heading level0 col1\" >recall</th>\n",
       "      <th id=\"T_fcb8d_level0_col2\" class=\"col_heading level0 col2\" >f1-score</th>\n",
       "      <th id=\"T_fcb8d_level0_col3\" class=\"col_heading level0 col3\" >support</th>\n",
       "    </tr>\n",
       "  </thead>\n",
       "  <tbody>\n",
       "    <tr>\n",
       "      <th id=\"T_fcb8d_level0_row0\" class=\"row_heading level0 row0\" >POSITIVE</th>\n",
       "      <td id=\"T_fcb8d_row0_col0\" class=\"data row0 col0\" >0.84</td>\n",
       "      <td id=\"T_fcb8d_row0_col1\" class=\"data row0 col1\" >0.92</td>\n",
       "      <td id=\"T_fcb8d_row0_col2\" class=\"data row0 col2\" >0.88</td>\n",
       "      <td id=\"T_fcb8d_row0_col3\" class=\"data row0 col3\" >521</td>\n",
       "    </tr>\n",
       "    <tr>\n",
       "      <th id=\"T_fcb8d_level0_row1\" class=\"row_heading level0 row1\" >NEGATIVE</th>\n",
       "      <td id=\"T_fcb8d_row1_col0\" class=\"data row1 col0\" >0.90</td>\n",
       "      <td id=\"T_fcb8d_row1_col1\" class=\"data row1 col1\" >0.81</td>\n",
       "      <td id=\"T_fcb8d_row1_col2\" class=\"data row1 col2\" >0.85</td>\n",
       "      <td id=\"T_fcb8d_row1_col3\" class=\"data row1 col3\" >488</td>\n",
       "    </tr>\n",
       "    <tr>\n",
       "      <th id=\"T_fcb8d_level0_row2\" class=\"row_heading level0 row2\" >accuracy</th>\n",
       "      <td id=\"T_fcb8d_row2_col0\" class=\"data row2 col0\" >0.87</td>\n",
       "      <td id=\"T_fcb8d_row2_col1\" class=\"data row2 col1\" >0.87</td>\n",
       "      <td id=\"T_fcb8d_row2_col2\" class=\"data row2 col2\" >0.87</td>\n",
       "      <td id=\"T_fcb8d_row2_col3\" class=\"data row2 col3\" >1</td>\n",
       "    </tr>\n",
       "    <tr>\n",
       "      <th id=\"T_fcb8d_level0_row3\" class=\"row_heading level0 row3\" >macro avg</th>\n",
       "      <td id=\"T_fcb8d_row3_col0\" class=\"data row3 col0\" >0.87</td>\n",
       "      <td id=\"T_fcb8d_row3_col1\" class=\"data row3 col1\" >0.86</td>\n",
       "      <td id=\"T_fcb8d_row3_col2\" class=\"data row3 col2\" >0.87</td>\n",
       "      <td id=\"T_fcb8d_row3_col3\" class=\"data row3 col3\" >1009</td>\n",
       "    </tr>\n",
       "    <tr>\n",
       "      <th id=\"T_fcb8d_level0_row4\" class=\"row_heading level0 row4\" >weighted avg</th>\n",
       "      <td id=\"T_fcb8d_row4_col0\" class=\"data row4 col0\" >0.87</td>\n",
       "      <td id=\"T_fcb8d_row4_col1\" class=\"data row4 col1\" >0.87</td>\n",
       "      <td id=\"T_fcb8d_row4_col2\" class=\"data row4 col2\" >0.87</td>\n",
       "      <td id=\"T_fcb8d_row4_col3\" class=\"data row4 col3\" >1009</td>\n",
       "    </tr>\n",
       "  </tbody>\n",
       "</table>\n"
      ]
     },
     "execution_count": 12,
     "metadata": {},
     "output_type": "execute_result"
    }
   ],
   "execution_count": 12
  },
  {
   "cell_type": "markdown",
   "id": "9795659fca83938d",
   "metadata": {},
   "source": [
    "### Wrongly classified tweets"
   ]
  },
  {
   "cell_type": "code",
   "id": "49c7bf1a527f18c1",
   "metadata": {
    "ExecuteTime": {
     "end_time": "2025-08-13T01:59:38.147337Z",
     "start_time": "2025-08-13T01:59:38.061647Z"
    }
   },
   "source": [
    "df[\"error\"] = df[\"categorization\"] != df[\"prediction\"]\n",
    "df_errors = df[df[\"error\"]]\n",
    "\n",
    "print(f\"Wrongly classified tweets quantity: {len(df_errors)}\")\n",
    "\n",
    "wrongly_classified_tweets = df_errors[[\"tweet_context\", \"categorization\", \"prediction\"]]\n",
    "\n",
    "display(wrongly_classified_tweets)\n",
    "\n",
    "wrongly_classified_tweets.to_csv(\"../data/processed/wct_gpt-5-mini-v3.csv\", index=False)"
   ],
   "outputs": [
    {
     "name": "stdout",
     "output_type": "stream",
     "text": [
      "Wrongly classified tweets quantity: 135\n"
     ]
    },
    {
     "data": {
      "text/plain": [
       "                                         tweet_context categorization  \\\n",
       "4    Autor del tweet: @newkrux\\nAvatar del tweet: h...       POSITIVE   \n",
       "5    Autor del tweet: @wulkan_co\\nAvatar del tweet:...       POSITIVE   \n",
       "8    Autor del tweet: @Kainu1329\\nAvatar del tweet:...       NEGATIVE   \n",
       "15   Autor del tweet: @MartaRepupilli\\nAvatar del t...       POSITIVE   \n",
       "23   Autor del tweet: @dacmail\\nAvatar del tweet: h...       POSITIVE   \n",
       "..                                                 ...            ...   \n",
       "954  Autor del tweet: @gordxestridente\\nAvatar del ...       NEGATIVE   \n",
       "982  Autor del tweet: @KashuerY\\nAvatar del tweet: ...       POSITIVE   \n",
       "984  Autor del tweet: @Ssiguenzar\\nAvatar del tweet...       NEGATIVE   \n",
       "992  Autor del tweet: @papawaca\\nAvatar del tweet: ...       NEGATIVE   \n",
       "995  Autor del tweet: @giuseppe_s\\nAvatar del tweet...       NEGATIVE   \n",
       "\n",
       "    prediction  \n",
       "4     NEGATIVE  \n",
       "5     NEGATIVE  \n",
       "8     POSITIVE  \n",
       "15    NEGATIVE  \n",
       "23    NEGATIVE  \n",
       "..         ...  \n",
       "954   POSITIVE  \n",
       "982   NEGATIVE  \n",
       "984   POSITIVE  \n",
       "992   POSITIVE  \n",
       "995   POSITIVE  \n",
       "\n",
       "[135 rows x 3 columns]"
      ],
      "text/html": [
       "<div>\n",
       "<style scoped>\n",
       "    .dataframe tbody tr th:only-of-type {\n",
       "        vertical-align: middle;\n",
       "    }\n",
       "\n",
       "    .dataframe tbody tr th {\n",
       "        vertical-align: top;\n",
       "    }\n",
       "\n",
       "    .dataframe thead th {\n",
       "        text-align: right;\n",
       "    }\n",
       "</style>\n",
       "<table border=\"1\" class=\"dataframe\">\n",
       "  <thead>\n",
       "    <tr style=\"text-align: right;\">\n",
       "      <th></th>\n",
       "      <th>tweet_context</th>\n",
       "      <th>categorization</th>\n",
       "      <th>prediction</th>\n",
       "    </tr>\n",
       "  </thead>\n",
       "  <tbody>\n",
       "    <tr>\n",
       "      <th>4</th>\n",
       "      <td>Autor del tweet: @newkrux\\nAvatar del tweet: h...</td>\n",
       "      <td>POSITIVE</td>\n",
       "      <td>NEGATIVE</td>\n",
       "    </tr>\n",
       "    <tr>\n",
       "      <th>5</th>\n",
       "      <td>Autor del tweet: @wulkan_co\\nAvatar del tweet:...</td>\n",
       "      <td>POSITIVE</td>\n",
       "      <td>NEGATIVE</td>\n",
       "    </tr>\n",
       "    <tr>\n",
       "      <th>8</th>\n",
       "      <td>Autor del tweet: @Kainu1329\\nAvatar del tweet:...</td>\n",
       "      <td>NEGATIVE</td>\n",
       "      <td>POSITIVE</td>\n",
       "    </tr>\n",
       "    <tr>\n",
       "      <th>15</th>\n",
       "      <td>Autor del tweet: @MartaRepupilli\\nAvatar del t...</td>\n",
       "      <td>POSITIVE</td>\n",
       "      <td>NEGATIVE</td>\n",
       "    </tr>\n",
       "    <tr>\n",
       "      <th>23</th>\n",
       "      <td>Autor del tweet: @dacmail\\nAvatar del tweet: h...</td>\n",
       "      <td>POSITIVE</td>\n",
       "      <td>NEGATIVE</td>\n",
       "    </tr>\n",
       "    <tr>\n",
       "      <th>...</th>\n",
       "      <td>...</td>\n",
       "      <td>...</td>\n",
       "      <td>...</td>\n",
       "    </tr>\n",
       "    <tr>\n",
       "      <th>954</th>\n",
       "      <td>Autor del tweet: @gordxestridente\\nAvatar del ...</td>\n",
       "      <td>NEGATIVE</td>\n",
       "      <td>POSITIVE</td>\n",
       "    </tr>\n",
       "    <tr>\n",
       "      <th>982</th>\n",
       "      <td>Autor del tweet: @KashuerY\\nAvatar del tweet: ...</td>\n",
       "      <td>POSITIVE</td>\n",
       "      <td>NEGATIVE</td>\n",
       "    </tr>\n",
       "    <tr>\n",
       "      <th>984</th>\n",
       "      <td>Autor del tweet: @Ssiguenzar\\nAvatar del tweet...</td>\n",
       "      <td>NEGATIVE</td>\n",
       "      <td>POSITIVE</td>\n",
       "    </tr>\n",
       "    <tr>\n",
       "      <th>992</th>\n",
       "      <td>Autor del tweet: @papawaca\\nAvatar del tweet: ...</td>\n",
       "      <td>NEGATIVE</td>\n",
       "      <td>POSITIVE</td>\n",
       "    </tr>\n",
       "    <tr>\n",
       "      <th>995</th>\n",
       "      <td>Autor del tweet: @giuseppe_s\\nAvatar del tweet...</td>\n",
       "      <td>NEGATIVE</td>\n",
       "      <td>POSITIVE</td>\n",
       "    </tr>\n",
       "  </tbody>\n",
       "</table>\n",
       "<p>135 rows × 3 columns</p>\n",
       "</div>"
      ]
     },
     "metadata": {},
     "output_type": "display_data"
    }
   ],
   "execution_count": 13
  }
 ],
 "metadata": {
  "kernelspec": {
   "display_name": "Python 3 (ipykernel)",
   "language": "python",
   "name": "python3"
  },
  "language_info": {
   "codemirror_mode": {
    "name": "ipython",
    "version": 3
   },
   "file_extension": ".py",
   "mimetype": "text/x-python",
   "name": "python",
   "nbconvert_exporter": "python",
   "pygments_lexer": "ipython3",
   "version": "3.13.0"
  }
 },
 "nbformat": 4,
 "nbformat_minor": 5
}
